# Vital_Sign_Pred
## Paper: Hybrid Neural Network Models to Estimate Vital Signs from Facial Videos
## Date: 2025-01-08
